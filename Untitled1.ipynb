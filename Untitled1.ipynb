{
  "nbformat": 4,
  "nbformat_minor": 0,
  "metadata": {
    "colab": {
      "name": "Untitled1.ipynb",
      "version": "0.3.2",
      "views": {},
      "default_view": {},
      "provenance": []
    },
    "kernelspec": {
      "name": "python3",
      "display_name": "Python 3"
    }
  },
  "cells": [
    {
      "metadata": {
        "id": "MBDSYx4foPle",
        "colab_type": "text"
      },
      "cell_type": "markdown",
      "source": [
        "# IMPORT PAKETA"
      ]
    },
    {
      "metadata": {
        "id": "vNTAf9waoNPX",
        "colab_type": "code",
        "colab": {
          "autoexec": {
            "startup": false,
            "wait_interval": 0
          }
        }
      },
      "cell_type": "code",
      "source": [
        "import pandas as pd\n",
        "import numpy as np\n",
        "import matplotlib.pyplot as plt \n",
        "import time\n",
        "import seaborn as sns\n",
        "import random\n",
        "import operator\n",
        "\n",
        "\n",
        "from sklearn.linear_model import LogisticRegression\n",
        "from sklearn.cross_validation import train_test_split\n",
        "from sklearn.model_selection import GridSearchCV,learning_curve\n",
        "from sklearn.ensemble import RandomForestClassifier\n",
        "from sklearn.metrics import f1_score,roc_curve,confusion_matrix,classification_report\n",
        "from sklearn.tree import DecisionTreeClassifier\n",
        "from sklearn.model_selection import KFold\n",
        "from sklearn.metrics import roc_auc_score\n",
        "from sklearn.model_selection import cross_val_score\n",
        "from sklearn.linear_model import LogisticRegressionCV\n",
        "\n",
        "#!pip install -q xgboost==0.4a30\n",
        "import xgboost as xgb\n",
        "from xgboost import XGBClassifier\n",
        "!pip install xgboost\n",
        "\n",
        "#!apt-get -qq install -y graphviz && pip install -q pydot\n",
        "!pip install pydot\n",
        "!pip install graphviz\n",
        "import pydot\n",
        "\n",
        "import xgboost as xgb\n",
        "from xgboost import plot_tree"
      ],
      "execution_count": 0,
      "outputs": []
    },
    {
      "metadata": {
        "id": "AyQrMWGxodHd",
        "colab_type": "text"
      },
      "cell_type": "markdown",
      "source": [
        "# IMPORT PODATAKA"
      ]
    },
    {
      "metadata": {
        "id": "9ZIHGnygq9gX",
        "colab_type": "text"
      },
      "cell_type": "markdown",
      "source": [
        "Podaci su loadani fjom \"importaj\" preko Google Drive-a (postupak je maknut iz sigurnosnih razloga)"
      ]
    },
    {
      "metadata": {
        "id": "hHDbuf-xptz4",
        "colab_type": "code",
        "colab": {
          "autoexec": {
            "startup": false,
            "wait_interval": 0
          }
        }
      },
      "cell_type": "code",
      "source": [
        "X1 = importaj(1)\n",
        "X2 = importaj(2)\n",
        "X3 = importaj(3)\n",
        "X4 = importaj(4)\n",
        "X5 = importaj(5)"
      ],
      "execution_count": 0,
      "outputs": []
    },
    {
      "metadata": {
        "id": "HIs9JT1ep4kL",
        "colab_type": "code",
        "colab": {
          "autoexec": {
            "startup": false,
            "wait_interval": 0
          }
        }
      },
      "cell_type": "code",
      "source": [
        "def Vrati_X_sa_stupcima_B_i_SubjectTaxNoID_i_y_Predstecaj(X):\n",
        "  prvi = list(X.columns).index(\"001B\")\n",
        "  zadnji = list(X.columns).index(\"380B\")\n",
        "  ind = list(X.columns).index(\"SubjectTaxNoID\")\n",
        "  \n",
        "  y = X[\"Predstečaj\"]\n",
        "  X = X.iloc[:,[ind]+list(range(prvi,zadnji))]\n",
        "  return X , y"
      ],
      "execution_count": 0,
      "outputs": []
    },
    {
      "metadata": {
        "id": "ZcbWXCWPp7LV",
        "colab_type": "code",
        "colab": {
          "autoexec": {
            "startup": false,
            "wait_interval": 0
          }
        }
      },
      "cell_type": "code",
      "source": [
        "X1 , y1 = Vrati_X_sa_stupcima_B_i_SubjectTaxNoID_i_y_Predstecaj(X1)\n",
        "X2 , y2 = Vrati_X_sa_stupcima_B_i_SubjectTaxNoID_i_y_Predstecaj(X2)\n",
        "X3 , y3 = Vrati_X_sa_stupcima_B_i_SubjectTaxNoID_i_y_Predstecaj(X3)\n",
        "X4 , y4 = Vrati_X_sa_stupcima_B_i_SubjectTaxNoID_i_y_Predstecaj(X4)\n",
        "X5 , y5 = Vrati_X_sa_stupcima_B_i_SubjectTaxNoID_i_y_Predstecaj(X5)"
      ],
      "execution_count": 0,
      "outputs": []
    },
    {
      "metadata": {
        "id": "-iAUdImwrUpU",
        "colab_type": "text"
      },
      "cell_type": "markdown",
      "source": [
        "# LOGISTICKA REGRESIJA"
      ]
    },
    {
      "metadata": {
        "id": "giej32_zrUP3",
        "colab_type": "code",
        "colab": {
          "autoexec": {
            "startup": false,
            "wait_interval": 0
          }
        }
      },
      "cell_type": "code",
      "source": [
        "# parametri mjenjani ovisno o t=1,2,3,4,5\n",
        "estimator = LogisticRegression(C=1,\n",
        "                               penalty='l2',\n",
        "                               class_weight=\"balanced\",\n",
        "                               max_iter=100\n",
        "                              )\n",
        "\n",
        "rezultati = cross_val_score(estimator = estimator,\n",
        "                            X = X1.drop([\"SubjectTaxNoID\"],axis=1),\n",
        "                            y = y1,\n",
        "                            scoring=\"roc_auc\",\n",
        "                            cv=10\n",
        "                           )\n",
        "print(rezultati)\n",
        "print(sum(rezultati)/10)"
      ],
      "execution_count": 0,
      "outputs": []
    },
    {
      "metadata": {
        "id": "3Zvdhlkcrh8-",
        "colab_type": "text"
      },
      "cell_type": "markdown",
      "source": [
        "# DECISION TREE"
      ]
    },
    {
      "metadata": {
        "id": "dmNA9Gg0rjFi",
        "colab_type": "code",
        "colab": {
          "autoexec": {
            "startup": false,
            "wait_interval": 0
          }
        }
      },
      "cell_type": "code",
      "source": [
        "# parametri mjenjani ovisno o t=1,2,3,4,5\n",
        "estimator = DecisionTreeClassifier(class_weight= 'balanced',\n",
        "                                   criterion= 'gini', \n",
        "                                   max_depth= 4, \n",
        "                                   max_features= None,\n",
        "                                   min_samples_split= 4,\n",
        "                                   splitter= 'best'\n",
        "                                  )\n",
        "\n",
        "rezultat = cross_val_score(estimator = estimator,\n",
        "                           X = X1.drop([\"SubjectTaxNoID\"],axis=1),\n",
        "                           y = y1,\n",
        "                           scoring=\"roc_auc\",\n",
        "                           cv=10\n",
        "                          )\n",
        "print(rezultat)\n",
        "print(sum(rezultat)/10)"
      ],
      "execution_count": 0,
      "outputs": []
    },
    {
      "metadata": {
        "id": "wohYwWkjryQL",
        "colab_type": "text"
      },
      "cell_type": "markdown",
      "source": [
        "## RANDOM FOREST"
      ]
    },
    {
      "metadata": {
        "id": "FNINW5HFrzJe",
        "colab_type": "code",
        "colab": {
          "autoexec": {
            "startup": false,
            "wait_interval": 0
          }
        }
      },
      "cell_type": "code",
      "source": [
        "# parametri mjenjani ovisno o t=1,2,3,4,5\n",
        "estimator = RandomForestClassifier(class_weight= 'balanced',\n",
        "                                   criterion= 'gini', \n",
        "                                   max_depth= 4, \n",
        "                                   max_features= None,\n",
        "                                   min_samples_split= 4,\n",
        "                                   #splitter= 'best'\n",
        "                                  )\n",
        "\n",
        "rezultati = cross_val_score(estimator = estimator,\n",
        "                            X = X1.drop([\"SubjectTaxNoID\"],axis=1),\n",
        "                            y = y1,\n",
        "                            scoring=\"roc_auc\",\n",
        "                            cv=10#,\n",
        "                            #fit_params=best_params_\n",
        "                           )\n",
        "print(rezultati)\n",
        "print(sum(rezultati)/10)"
      ],
      "execution_count": 0,
      "outputs": []
    },
    {
      "metadata": {
        "id": "JDfdGUoKr_u5",
        "colab_type": "text"
      },
      "cell_type": "markdown",
      "source": [
        "# XGBOOST (BEZ SINTETICKIH)"
      ]
    },
    {
      "metadata": {
        "id": "SGhVUR_Ysics",
        "colab_type": "code",
        "colab": {
          "autoexec": {
            "startup": false,
            "wait_interval": 0
          }
        }
      },
      "cell_type": "code",
      "source": [
        "def model_xgboost(X,y):\n",
        "\n",
        "  \n",
        "  X_train, X_test, y_train, y_test = train_test_split(X,y)\n",
        "  print(pd.DataFrame([list(y.value_counts()),list(y_train.value_counts()),list(y_test.value_counts())],\n",
        "                     index=[\"y\",\"y_train\",\"y_test\"],\n",
        "                     columns=[\"1\",\"0\"]))\n",
        "  \n",
        "  \n",
        "  \n",
        "  # GRID SEARCH ZA NAJBOLJE PARAMETRE --> DODATI JOS PARAMETARA\n",
        "  parameter_gridsearch = {'max_depth' : range(5,8), # max_depth \n",
        "                          'n_estimators': [20],\n",
        "                          'learning_rate': [0.09,0.18,0.2],#np.arange(0.09,0.2,0.05),\n",
        "                          'subsample': [0.8,1],\n",
        "                          'reg_lambda': [0.4,0.6,1]#np.arange(0.5,5,0.5), \n",
        "                         }\n",
        "  \n",
        "  gridsearch = GridSearchCV(XGBClassifier(objective='binary:logistic'),\n",
        "                            scoring='roc_auc',\n",
        "                            param_grid=parameter_gridsearch,\n",
        "                            cv=10)\n",
        "  \n",
        "  gridsearch.fit(X_train,y_train)     \n",
        "  print('Best Score: {}'.format(gridsearch.best_score_))\n",
        "  print(\"Best parameters: \",gridsearch.best_params_)\n",
        "  \n",
        "  \n",
        "  parametri=gridsearch.best_params_\n",
        "  \n",
        "  # S NAJBOLJIM PARAMETRIMA\n",
        "  classifierXGB = XGBClassifier(max_depth=parametri[\"max_depth\"],\n",
        "                                n_estimators=parametri[\"n_estimators\"],\n",
        "                                learning_rate=parametri[\"learning_rate\"],\n",
        "                                subsample=parametri[\"subsample\"],\n",
        "                                reg_lambda=parametri[\"reg_lambda\"])\n",
        "  \n",
        "                               \n",
        "    \n",
        "  classifierXGB.fit(X_train,y_train)     \n",
        "  y_pred = classifierXGB.predict(X_test)\n",
        "  \n",
        "  \n",
        "  \n",
        "  fpr,tpr,thresholds = roc_curve(y_test,classifierXGB.predict_proba(X_test)[:,1])\n",
        "  print(\"AUC ROC preko integrala: \",np.trapz(tpr,fpr))\n",
        "  print(\"AUC ROC preko integrirane fje: \",roc_auc_score(y_test,XGBClassifier.predict_proba(X_test)[:,1]))\n",
        "\n",
        "\n",
        "  # PLOTAJ ROC KRIVULJU\n",
        "  plt.plot(fpr,tpr)\n",
        "  plt.title(\"ROC za Xgboost, auc roc:\"+str(np.trapz(tpr,fpr)))\n",
        "  plt.ylabel('TPR');\n",
        "  plt.xlabel('FPR');\n",
        "  plt.show()\n",
        "  \n",
        "  \n",
        "  \n",
        "  #crtati confusion matrix\n",
        "  konfuzijska=confusion_matrix(y_test, y_pred)\n",
        "\n",
        "  plt.figure(figsize=(9,9))\n",
        "  sns.heatmap(konfuzijska, annot=True, fmt=\".3f\", linewidths=.5, square = True, cmap = 'Blues_r');\n",
        "  plt.ylabel('Actual label');\n",
        "  plt.xlabel('Predicted label');\n",
        "  #all_sample_title = 'Accuracy Score: {0}'.classifier.score(x_test,y_test)\n",
        "  plt.title(\"Konfuzijska matrica za threshold 0.5\", size = 15);\n",
        "  \n",
        "  #report\n",
        "  #print(classification_report(y_test, y_pred))\n",
        "  \n",
        "\n",
        "  # NAJBOLJI THRESHOLD ODNOSNO NAJBLIZA TOCKA LJEVOM GORNJEM KUTU\n",
        "  from scipy.spatial import distance\n",
        "  top_left_corner = (0,1)\n",
        "\n",
        "  distances_from_top_left = []\n",
        "  for threshold_index, threshold in enumerate(thresholds):\n",
        "    distances_from_top_left.append(distance.euclidean(top_left_corner, (fpr[threshold_index], tpr[threshold_index])))\n",
        "\n",
        "  \n",
        "  distances_from_top_left = np.array(distances_from_top_left)\n",
        "  optimal_threshold = thresholds[distances_from_top_left.argmin(axis=0)] \n",
        "  print(\"Optimalni threshold: \", optimal_threshold)\n",
        "  \n",
        "  # NACI NOVE PREDIKCIJE OBZIROM NA NOVI THRESHOLD, SPREMAM IH U STARE VJEROJATNOSTI\n",
        "  # PRVO IH POSTAVIT NA STARE VJEROJATNOSIT PA USPOREDIT SA THRESHOLDOM I TAKO ODLUCIT DAL 0 il 1\n",
        "  nove_predikcije = classifierXGB.predict_proba(X_test)[:,1]\n",
        "\n",
        "  nove_predikcije[nove_predikcije >= optimal_threshold] = 1\n",
        "  nove_predikcije[nove_predikcije < optimal_threshold] = 0\n",
        "  \n",
        "  \n",
        "  #crtati confusion matrix opet ali za optimalni threshold\n",
        "  konfuzijska1=confusion_matrix(y_test, nove_predikcije)\n",
        "  \n",
        "  plt.figure(figsize=(9,9))\n",
        "  sns.heatmap(konfuzijska1, annot=True, fmt=\".3f\", linewidths=.5, square = True, cmap = 'Blues_r');\n",
        "  plt.ylabel('Actual label');\n",
        "  plt.xlabel('Predicted label');\n",
        "  #all_sample_title = 'Accuracy Score: {0}'.classifier.score(x_test,y_test)\n",
        "  plt.title(\"Konfuzijska matrica za threshold=\"+str(optimal_threshold), size = 15);\n",
        "  \n",
        "  #report za optimalni threshold\n",
        "  #print(classification_report(y_test, nove_predikcije))\n"
      ],
      "execution_count": 0,
      "outputs": []
    },
    {
      "metadata": {
        "id": "XWWOLgLktLEk",
        "colab_type": "text"
      },
      "cell_type": "markdown",
      "source": [
        "## XGBOOST (SA SINTETICKIM)"
      ]
    },
    {
      "metadata": {
        "id": "UIHxz5ectM-T",
        "colab_type": "code",
        "colab": {
          "autoexec": {
            "startup": false,
            "wait_interval": 0
          }
        }
      },
      "cell_type": "code",
      "source": [
        ""
      ],
      "execution_count": 0,
      "outputs": []
    }
  ]
}